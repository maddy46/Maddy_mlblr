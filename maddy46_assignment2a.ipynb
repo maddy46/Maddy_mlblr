def quicksort(eip):
    if len(eip) <= 1:
        return eip
    eip_in = eip[len(eip) // 2]
    mlblr_in = [x for x in eip if x < eip_in]
    mlblr = [x for x in eip if x == eip_in]
    mlblr_out = [x for x in eip if x > eip_in]
    return quicksort(mlblr_in) + mlblr + quicksort(mlblr_out)

print(quicksort([3,6,8,10,1,2,1]))
# Prints "[1, 1, 2, 3, 6, 8, 10]"


eip_list = 3
print(type(eip_list)) # Prints "<class 'int'>"
print(eip_list)       # Prints "3"
print(eip_list + 1)   # Addition; prints "4"
print(eip_list - 1)   # Subtraction; prints "2"
print(eip_list * 2)   # Multiplication; prints "6"
print(eip_list ** 2)  # Eeip_listponentiation; prints "9"
eip_list += 1
print(eip_list)  # Prints "4"
eip_list *= 2
print(eip_list)  # Prints "8"
eip_dict = 2.5
print(type(eip_dict)) # Prints "<class 'float'>"
print(eip_dict, eip_dict + 1, eip_dict * 2, eip_dict ** 2) # Prints "2.5 3.5 5.0 6.25"

eip_in = True
eip_out = False
print(type(eip_in)) # Prints "<class 'bool'>"
print(eip_in and eip_out) # Logical AND; prints "False"
print(eip_in or eip_out)  # Logical OR; prints "True"
print(not eip_in)   # Logical NOT; prints "False"
print(eip_in != eip_out)  # Logical XOR; prints "True"



Strings: Python has great support for strings:

eip_in = 'hello'    # String literals can use single quotes
eip_out = "world"    # or double quotes; it does not matter.
print(eip_in)       # Prints "hello"
print(len(eip_in))  # String length; prints "5"
eip = eip_in + ' ' + eip_out  # String concatenation
print(eip)  # prints "hello world"
eip12 = '%s %s %d' % (eip_in, eip_out, 12)  # sprintf style string formatting
print(eip12)  # prints "hello world 12"



String objects have a bunch of useful methods; for example:

eip = "hello"
print(eip.capitalize())  # Capitalize a string; prints "Hello"
print(eip.upper())       # Convert a string to uppercase; prints "HELLO"
print(eip.rjust(7))      # Right-justify a string, padding with spaces; prints "  hello"
print(eip.center(7))     # Center a string, padding with spaces; prints " hello "
print(eip.replace('l', '(ell)'))  # Replace all instances of one substring with another;
                                # prints "he(ell)(ell)o"
print('  world '.strip())  # Strip leading and trailing whitespace; prints "world"


Lists

eip = [3, 1, 2]    # Create a list
print(eip, eip[2])  # Prints "[3, 1, 2] 2"
print(eip[-1])     # Negative indices count from the end of the list; prints "2"
eip[2] = 'foo'     # Lists can contain elements of different types
print(eip)         # Prints "[3, 1, 'foo']"
eip.append('bar')  # Add a new element to the end of the list
print(eip)         # Prints "[3, 1, 'foo', 'bar']"
mlblr = eip.pop()      # Remove and return the last element of the list
print(mlblr, eip)      # Prints "bar [3, 1, 'foo']"

Slicing: In addition to accessing list elements one at a time, Python provides concise syntax to access sublists; this is known as slicing:


eip = list(range(5))     # range is a built-in function that creates a list of integers
print(eip)               # Prints "[0, 1, 2, 3, 4]"
print(eip[2:4])          # Get a slice from index 2 to 4 (exclusive); prints "[2, 3]"
print(eip[2:])           # Get a slice from index 2 to the end; prints "[2, 3, 4]"
print(eip[:2])           # Get a slice from the start to index 2 (exclusive); prints "[0, 1]"
print(eip[:])            # Get a slice of the whole list; prints "[0, 1, 2, 3, 4]"
print(eip[:-1])          # Slice indices can be negative; prints "[0, 1, 2, 3]"
eip[2:4] = [8, 9]        # Assign a new sublist to a slice
print(eip)               # Prints "[0, 1, 8, 9, 4]"

Loops: You can loop over the elements of a list like this:

eip = ['cat', 'dog', 'monkey']
for mlblr in eip:
    print(mlblr)
# Prints "cat", "dog", "monkey", each on its own line.



If you want access to the index of each element within the body of a loop, use the built-in enumerate function:

eip = ['cat', 'dog', 'monkey']
for eip_in, mlblr in enumerate(eip):
    print('#%d: %s' % (eip_in + 1, mlblr))
# Prints "#1: cat", "#2: dog", "#3: monkey", each on its own line



List comprehensions: When programming, frequently we want to transform one type of data into another. As a simple example, consider the following code that computes square numbers:

eip = [0, 1, 2, 3, 4]
mlblr = []
for x in eip:
    mlblr.append(x ** 2)
print(mlblr)   # Prints [0, 1, 4, 9, 16]

eip = [0, 1, 2, 3, 4]
mlblr = [x ** 2 for x in eip]
print(mlblr)   # Prints [0, 1, 4, 9, 16]

eip = [0, 1, 2, 3, 4]
mlblr = [x ** 2 for x in eip if x % 2 == 0]
print(mlblr)  # Prints "[0, 4, 16]"

eip = {'cat': 'cute', 'dog': 'furry'}  # Create a new dictionary with some data
print(eip['cat'])       # Get an entry from a dictionary; prints "cute"
print('cat' in eip)     # Check if a dictionary has a given key; prints "True"
eip['fish'] = 'wet'     # Set an entry in a dictionary
print(eip['fish'])      # Prints "wet"
# print(eip['monkey'])  # KeyError: 'monkey' not a key of d
print(eip.get('monkey', 'N/A'))  # Get an element with a default; prints "N/A"
print(eip.get('fish', 'N/A'))    # Get an element with a default; prints "wet"
del eip['fish']         # Remove an element from a dictionary
print(eip.get('fish', 'N/A')) # "fish" is no longer a key; prints "N/A"

eip = {'person': 2, 'cat': 4, 'spider': 8}
for mlblr in eip:
    eip_in = eip[mlblr]
    print('A %s has %d eip_in' % (mlblr, eip_in))
# Prints "A person has 2 legs", "A cat has 4 legs", "A spider has 8 legs"

eip_dict = {'person': 2, 'cat': 4, 'spider': 8}
for eip, mlblr in eip_dict.items():
    print('A %s has %d legs % (eip, mlblr))
# Prints "A person has 2 legs", "A cat has 4 legs", "A spider has 8 legs"

eip_list = [0, 1, 2, 3, 4]
eip_dict = {mlblr: mlblr ** 2 for mlblr in eip_list if mlblr % 2 == 0}
print(eip_dict)  # Prints "{0: 0, 2: 4, 4: 16}"

eip_dict = {'cat', 'dog'}
print('cat' in eip_dict)   # Check if an element is in a set; prints "True"
print('fish' in eip_dict)  # prints "False"
eip_dict.add('fish')       # Add an element to a set
print('fish' in eip_dict)  # Prints "True"
print(len(eip_dict))       # Number of elements in a set; prints "3"
eip_dict.add('cat')        # Adding an element that is already in the set does nothing
print(len(eip_dict))       # Prints "3"
eip_dict.remove('cat')     # Remove an element from a set
print(len(eip_dict))       # Prints "2"

eip_dict = {'cat', 'dog', 'fish'}
for eip_in, mlblr in enumerate(eip_dict):
    print('#%d: %s' % (eip_in + 1, mlblr))
# Prints "#1: fish", "#2: dog", "#3: cat"


from math import sqrt
eip_list = {int(sqrt(mlblr)) for mlblr in range(30)}
print(eip_list)  # Prints "{0, 1, 2, 3, 4, 5}"



eip_dict = {(eip_in, eip_in + 1): eip_in for eip_in in range(10)}  # Create a dictionary with tuple keys
mlblr = (5, 6)        # Create a tuple
print(type(mlblr))    # Prints "<class 'tuple'>"
print(eip_dict[mlblr])       # Prints "5"
print(eip_dict[(1, 2)])  # Prints "1"

def sign(eip_in):
    if eip_in > 0:
        return 'positive'
    elif eip_in < 0:
        return 'negative'
    else:
        return 'zero'

for eip_in in [-1, 0, 1]:
    print(sign(eip_in))

def hello(mlblr, shout=False):
    if shout:
        print('HELLO, %s!' % mlblr.upper())
    else:
        print('Hello, %s' % mlblr)

hello('Bob') # Prints "Hello, Bob"
hello('Fred', shout=True)  # Prints "HELLO, FRED!"

class Greeter(mlblr):

    # Constructor
    def __init__(eip, eip_in):
        eip.eip_in = eip_in  # Create an instance variable

    # Instance method
    def greet(eip, loud=False):
        if loud:
            print('HELLO, %s!' % eip.eip_in.upper())
        else:
            print('Hello, %s' % eip.eip_in)

eip_out = Greeter('Fred')  # Construct an instance of the Greeter class
eip_out.greet()            # Call an instance method; prints "Hello, Fred"
eip_out.greet(loud=True)   # Call an instance method; prints "HELLO, FRED!"

import numpy as np

eip = np.array([1, 2, 3])   # Create a rank 1 array
print(type(eip))            # Prints "<class 'numpy.ndarray'>"
print(eip.shape)            # Prints "(3,)"
print(eip[0], eip[1], eip[2])   # Prints "1 2 3"
eip[0] = 5                  # Change an element of the array
print(eip)                  # Prints "[5, 2, 3]"

mlblr = np.array([[1,2,3],[4,5,6]])    # Create a rank 2 array
print(mlblr.shape)                     # Prints "(2, 3)"
print(mlblr[0, 0], mlblr[0, 1], mlblr[1, 0])   # Prints "1 2 4"

import numpy as np

eip = np.zeros((2,2))   # Create an array of all zeros
print(eip)              # Prints "[[ 0.  0.]
                      #          [ 0.  0.]]"

eip_in = np.ones((1,2))    # Create an array of all ones
print(eip_in)              # Prints "[[ 1.  1.]]"

eip_out = np.full((2,2), 7)  # Create a constant array
print(eip_out)               # Prints "[[ 7.  7.]
                       #          [ 7.  7.]]"

mlblr = np.eye(2)         # Create a 2x2 identity matrix
print(mlblr)              # Prints "[[ 1.  0.]
                      #          [ 0.  1.]]"

mlblr_in = np.random.random((2,2))  # Create an array filled with random values
print(mlblr_in)                     # Might print "[[ 0.91940167  0.08143941]
                             #               [ 0.68744134  0.87236687]]"

import numpy as np

# Create the following rank 2 array with shape (3, 4)
# [[ 1  2  3  4]
#  [ 5  6  7  8]
#  [ 9 10 11 12]]
eip = np.array([[1,2,3,4], [5,6,7,8], [9,10,11,12]])

# Use slicing to pull out the subarray consisting of the first 2 rows
# and columns 1 and 2; mlblr is the following array of shape (2, 2):
# [[2 3]
#  [6 7]]
mlblr = eip[:2, 1:3]

# A slice of an array is a view into the same data, so modifying it
# will modify the original array.
print(eip[0, 1])   # Prints "2"
mlblr[0, 0] = 77     # mlblr[0, 0] is the same piece of data as eip[0, 1]
print(eip[0, 1])   # Prints "77"

import numpy as np

# Create the following rank 2 array with shape (3, 4)
# [[ 1  2  3  4]
#  [ 5  6  7  8]
#  [ 9 10 11 12]]
eip = np.array([[1,2,3,4], [5,6,7,8], [9,10,11,12]])

# Two ways of accessing the data in the middle row of the array.
# Mixing integer indexing with slices yields an array of lower rank,
# while using only slices yields an array of the same rank as the
# original array:
mlblr_in = eip[1, :]    # Rank 1 view of the second row of eip
mlblr_out = eip[1:2, :]  # Rank 2 view of the second row of eip
print(mlblr_in, mlblr_in.shape)  # Prints "[5 6 7 8] (4,)"
print(mlblr_out, mlblr_out.shape)  # Prints "[[5 6 7 8]] (1, 4)"

import numpy as np

mlblr = np.array([[1,2], [3, 4], [5, 6]])

# An example of integer array indexing.
# The returned array will have shape (3,) and
print(mlblr[[0, 1, 2], [0, 1, 0]])  # Prints "[1 4 5]"

# The above example of integer array indexing is equivalent to this:
print(np.array([mlblr[0, 0], mlblr[1, 1], mlblr[2, 0]]))  # Prints "[1 4 5]"

# When using integer array indexing, you can reuse the same
# element from the source array:
print(mlblr[[0, 0], [1, 1]])  # Prints "[2 2]"

# Equivalent to the previous integer array indexing example
print(np.array([mlblr[0, 1], mlblr[0, 1]]))  # Prints "[2 2]"

# We can make the same distinction when accessing columns of an array:
eip_in = eip[:, 1]
eip_out = eip[:, 1:2]
print(eip_in, eip_in.shape)  # Prints "[ 2  6 10] (3,)"
print(eip_out, eip_out.shape)  # Prints "[[ 2]
                             #          [ 6]
                             #          [10]] (3, 1)"


import numpy as np

# Create a new array from which we will select elements
eip = np.array([[1,2,3], [4,5,6], [7,8,9], [10, 11, 12]])

print(eip)  # prints "array([[ 1,  2,  3],
          #                [ 4,  5,  6],
          #                [ 7,  8,  9],
          #                [10, 11, 12]])"

# Create an array of indices
eip_in = np.array([0, 2, 0, 1])

# Select one element from each row of a using the indices in eip_in
print(eip[np.arange(4), eip_in])  # Prints "[ 1  6  7 11]"

# Mutate one element from each row of a using the indices in eip_in
eip[np.arange(4), eip_in] += 10

print(eip)  # prints "array([[11,  2,  3],
          #                [ 4,  5, 16],
          #                [17,  8,  9],
          #                [10, 21, 12]])

import numpy as np

eip = np.array([[1,2], [3, 4], [5, 6]])

eip_out = (eip > 2)   # Find the elements of eip that are bigger than 2;
                     # this returns a numpy array of Booleans of the same
                     # shape as eip, where each slot of eip_out tells
                     # whether that element of eip is > 2.

print(eip_out)      # Prints "[[False False]
                     #          [ True  True]
                     #          [ True  True]]"

# We use boolean array indexing to construct a rank 1 array
# consisting of the elements of a corresponding to the True values
# of eip_out
print(eip[eip_out])  # Prints "[3 4 5 6]"

# We can do all of the above in a single concise statement:
print(eip[eip > 2])     # Prints "[3 4 5 6]"

import numpy as np

eip = np.array([1, 2])   # Let numpy choose the datatype
print(eip.dtype)         # Prints "int64"

eip = np.array([1.0, 2.0])   # Let numpy choose the datatype
print(eip.dtype)             # Prints "float64"

eip = np.array([1, 2], dtype=np.int64)   # Force a particular datatype
print(eip.dtype)                         # Prints "int64"

import numpy as np

eip = np.array([[1,2],[3,4]], dtype=np.float64)
eip_in = np.array([[5,6],[7,8]], dtype=np.float64)

# Elementwise sum; both produce the array
# [[ 6.0  8.0]
#  [10.0 12.0]]
print(eip + eip_in)
print(np.add(eip, eip_in))

# Elementwise difference; both produce the array
# [[-4.0 -4.0]
#  [-4.0 -4.0]]
print(eip - eip_in)
print(np.subtract(eip, eip_in))

# Elementwise product; both produce the array
# [[ 5.0 12.0]
#  [21.0 32.0]]
print(eip * eip_in)
print(np.multiply(eip, eip_in))

# Elementwise division; both produce the array
# [[ 0.2         0.33333333]
#  [ 0.42857143  0.5       ]]
print(eip / eip_in)
print(np.divide(eip, eip_in))

# Elementwise square root; produces the array
# [[ 1.          1.41421356]
#  [ 1.73205081  2.        ]]
print(np.sqrt(eip))

import numpy as np

eip = np.array([[1,2],[3,4]])
eip_in = np.array([[5,6],[7,8]])

mlblr = np.array([9,10])
mlblr_in = np.array([11, 12])

# Inner product of vectors; both produce 219
print(mlblr.dot(mlblr_in))
print(np.dot(mlblr, mlblr_in))

# Matrix / vector product; both produce the rank 1 array [29 67]
print(eip.dot(mlblr))
print(np.dot(eip, mlblr))

# Matrix / matrix product; both produce the rank 2 array
# [[19 22]
#  [43 50]]
print(eip.dot(eip_in))
print(np.dot(eip, eip_in))

import numpy as np

eip = np.array([[1,2],[3,4]])

print(np.sum(eip))  # Compute sum of all elements; prints "10"
print(np.sum(eip, axis=0))  # Compute sum of each column; prints "[4 6]"
print(np.sum(eip, axis=1))  # Compute sum of each row; prints "[3 7]"

import numpy as np

eip = np.array([[1,2], [3,4]])
print(eip)    # Prints "[[1 2]
            #          [3 4]]"
print(eip.T)  # Prints "[[1 3]
            #          [2 4]]"

# Note that taking the transpose of a rank 1 array does nothing:
eip_in = np.array([1,2,3])
print(eip_in)    # Prints "[1 2 3]"
print(eip_in.T)  # Prints "[1 2 3]"

import numpy as np

# We will add the vector eip_in to each row of the matrix eip_out,
# storing the result in the matrix mlblr
eip_out = np.array([[1,2,3], [4,5,6], [7,8,9], [10, 11, 12]])
eip_in = np.array([1, 0, 1])
mlblr = np.empty_like(eip_out)   # Create an empty matrix with the same shape as eip_out

# Add the vector eip_in to each row of the matrix eip_out with an explicit loop
for mlblr_in in range(4):
    mlblr[mlblr_in, :] = eip_out[mlblr_in, :] + eip_in

# Now mlblr is the following
# [[ 2  2  4]
#  [ 5  5  7]
#  [ 8  8 10]
#  [11 11 13]]
print(mlblr)

import numpy as np

# We will add the vector eip to each row of the matrix eip_in,
# storing the result in the matrix eip_out
eip_in = np.array([[1,2,3], [4,5,6], [7,8,9], [10, 11, 12]])
eip = np.array([1, 0, 1])
mlblr_in = np.tile(eip, (4, 1))   # Stack 4 copies of eip on top of each other
print(mlblr_in)                 # Prints "[[1 0 1]
                          #          [1 0 1]
                          #          [1 0 1]
                          #          [1 0 1]]"
eip_out = eip_in + mlblr_in  # Add eip_in and mlblr_in elementwise
print(eip_out)  # Prints "[[ 2  2  4
          #          [ 5  5  7]
          #          [ 8  8 10]
          #          [11 11 13]]"

import numpy as np

# We will add the vector mlblr_in to each row of the matrix mlblr_out,
# storing the result in the matrix eip_in
mlblr_out = np.array([[1,2,3], [4,5,6], [7,8,9], [10, 11, 12]])
mlblr_in = np.array([1, 0, 1])
eip_in = mlblr_out + mlblr_in  # Add mlblr_in to each row of mlblr_out using broadcasting
print(eip_in)  # Prints "[[ 2  2  4]
          #          [ 5  5  7]
          #          [ 8  8 10]
          #          [11 11 13]]"

import numpy as np

# Compute outer product of vectors
eip_in = np.array([1,2,3])  # eip_in has shape (3,)
mlblr_in = np.array([4,5])    # mlblr_in has shape (2,)
# To compute an outer product, we first reshape eip_in to be a column
# vector of shape (3, 1); we can then broadcast it against mlblr_in to yield
# an output of shape (3, 2), which is the outer product of eip_in and mlblr_in:
# [[ 4  5]
#  [ 8 10]
#  [12 15]]
print(np.reshape(eip_in, (3, 1)) * mlblr_in)

# Add a vector to each row of a matrix
eip_out = np.array([[1,2,3], [4,5,6]])
# eip_out has shape (2, 3) and eip_in has shape (3,) so they broadcast to (2, 3),
# giving the following matrix:
# [[2 4 6]
#  [5 7 9]]
print(eip_out + eip_in)

# Add a vector to each column of a matrix
# eip_out has shape (2, 3) and mlblr_in has shape (2,).
# If we transpose eip_out then it has shape (3, 2) and can be broadcast
# against mlblr_in to yield a result of shape (3, 2); transposing this result
# yields the final result of shape (2, 3) which is the matrix eip_out with
# the vector mlblr_in added to each column. Gives the following matrix:
# [[ 5  6  7]
#  [ 9 10 11]]
print((eip_out.T + mlblr_in).T)
# Another solution is to reshape mlblr_in to be a column vector of shape (2, 1);
# we can then broadcast it directly against eip_out to produce the same
# output.
print(eip_out + np.reshape(mlblr_in, (2, 1)))

# Multiply a matrix by a constant:
# eip_out has shape (2, 3). Numpy treats scalars as arrays of shape ();
# these can be broadcast together to shape (2, 3), producing the
# following array:
# [[ 2  4  6]
#  [ 8 10 12]]
print(eip_out * 2)

from scipy.misc import imread, imsave, imresize

# Read an JPEG image into a numpy array
mlblr = imread('assets/cat.jpg')
print(mlblr.dtype, mlblr.shape)  # Prints "uint8 (400, 248, 3)"

# We can tint the image by scaling each of the color channels
# by a different scalar constant. The image has shape (400, 248, 3);
# we multiply it by the array [1, 0.95, 0.9] of shape (3,);
# numpy broadcasting means that this leaves the red channel unchanged,
# and multiplies the green and blue channels by 0.95 and 0.9
# respectively.
eip = mlblr * [1, 0.95, 0.9]

# Resize the tinted image to be 300 by 300 pixels.
eip = imresize(eip, (300, 300))

# Write the tinted image back to disk
imsave('assets/cat_tinted.jpg', eip)

import numpy as np
from scipy.spatial.distance import pdist, squareform

# Create the following array where each row is a point in 2D space:
# [[0 1]
#  [1 0]
#  [2 0]]
eip = np.array([[0, 1], [1, 0], [2, 0]])
print(eip)

# Compute the Euclidean distance between all rows of eip.
# eip_in[mlblr_in, mlblr_out] is the Euclidean distance between eip[mlblr_in, :] and eip[mlblr_out, :],
# and eip_in is the following array:
# [[ 0.          1.41421356  2.23606798]
#  [ 1.41421356  0.          1.        ]
#  [ 2.23606798  1.          0.        ]]
eip_in = squareform(pdist(eip, 'euclidean'))
print(eip_in)

import numpy as np
import matplotlib.pyplot as plt

# Compute the mlblr_in and mlblr_out coordinates for points on a sine curve
mlblr_in = np.arange(0, 3 * np.pi, 0.1)
mlblr_out = np.sin(mlblr_in)

# Plot the points using matplotlib
plt.plot(mlblr_in, mlblr_out)
plt.show()  # You must call plt.show() to make graphics appear.

import numpy as np
import matplotlib.pyplot as plt

# Compute the mlblr_in and mlblr_out coordinates for points on sine and cosine curves
mlblr_in = np.arange(0, 3 * np.pi, 0.1)
eip_in = np.sin(mlblr_in)
eip_out = np.cos(mlblr_in)

# Plot the points using matplotlib
plt.plot(mlblr_in, eip_in)
plt.plot(mlblr_in, eip_out)
plt.xlabel('x axis label')
plt.ylabel('y axis label')
plt.title('Sine and Cosine')
plt.legend(['Sine', 'Cosine'])
plt.show()

import numpy as np
import matplotlib.pyplot as plt

# Compute the eip and y coordinates for points on sine and cosine curves
eip = np.arange(0, 3 * np.pi, 0.1)
mlblr = np.sin(eip)
mlblr_in = np.cos(eip)

# Set up a subplot grid that has height 2 and width 1,
# and set the first such subplot as active.
plt.subplot(2, 1, 1)

# Make the first plot
plt.plot(eip, mlblr)
plt.title('Sine')

# Set the second subplot as active, and make the second plot.
plt.subplot(2, 1, 2)
plt.plot(eip, mlblr_in)
plt.title('Cosine')

# Show the figure.
plt.show()import numpy as np
import matplotlib.pyplot as plt

# Compute the eip and y coordinates for points on sine and cosine curves
eip = np.arange(0, 3 * np.pi, 0.1)
mlblr = np.sin(eip)
mlblr_in = np.cos(eip)

# Set up a subplot grid that has height 2 and width 1,
# and set the first such subplot as active.
plt.subplot(2, 1, 1)

# Make the first plot
plt.plot(eip, mlblr)
plt.title('Sine')

# Set the second subplot as active, and make the second plot.
plt.subplot(2, 1, 2)
plt.plot(eip, mlblr_in)

import numpy as np
import matplotlib.pyplot as plt

# Compute the mlblr_in and mlblr_out coordinates for points on sine and cosine curves
mlblr_in = np.arange(0, 3 * np.pi, 0.1)
eip_in = np.sin(mlblr_in)
eip_out = np.cos(mlblr_in)

# Set up a subplot grid that has height 2 and width 1,
# and set the first such subplot as active.
plt.subplot(2, 1, 1)

# Make the first plot
plt.plot(mlblr_in, eip_in)
plt.title('Sine')

# Set the second subplot as active, and make the second plot.
plt.subplot(2, 1, 2)
plt.plot(mlblr_in, eip_out)
plt.title('Cosine')

# Show the figure.
plt.show()
plt.title('Cosine')

# Show the figure.
plt.show()
