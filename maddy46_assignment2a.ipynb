def quicksort(eip):
    if len(eip) <= 1:
        return eip
    eip_in = eip[len(eip) // 2]
    mlblr_in = [x for x in eip if x < eip_in]
    mlblr = [x for x in eip if x == eip_in]
    mlblr_out = [x for x in eip if x > eip_in]
    return quicksort(mlblr_in) + mlblr + quicksort(mlblr_out)

print(quicksort([3,6,8,10,1,2,1]))
# Prints "[1, 1, 2, 3, 6, 8, 10]"


eip_list = 3
print(type(eip_list)) # Prints "<class 'int'>"
print(eip_list)       # Prints "3"
print(eip_list + 1)   # Addition; prints "4"
print(eip_list - 1)   # Subtraction; prints "2"
print(eip_list * 2)   # Multiplication; prints "6"
print(eip_list ** 2)  # Eeip_listponentiation; prints "9"
eip_list += 1
print(eip_list)  # Prints "4"
eip_list *= 2
print(eip_list)  # Prints "8"
eip_dict = 2.5
print(type(eip_dict)) # Prints "<class 'float'>"
print(eip_dict, eip_dict + 1, eip_dict * 2, eip_dict ** 2) # Prints "2.5 3.5 5.0 6.25"

eip_in = True
eip_out = False
print(type(eip_in)) # Prints "<class 'bool'>"
print(eip_in and eip_out) # Logical AND; prints "False"
print(eip_in or eip_out)  # Logical OR; prints "True"
print(not eip_in)   # Logical NOT; prints "False"
print(eip_in != eip_out)  # Logical XOR; prints "True"



Strings: Python has great support for strings:

eip_in = 'hello'    # String literals can use single quotes
eip_out = "world"    # or double quotes; it does not matter.
print(eip_in)       # Prints "hello"
print(len(eip_in))  # String length; prints "5"
eip = eip_in + ' ' + eip_out  # String concatenation
print(eip)  # prints "hello world"
eip12 = '%s %s %d' % (eip_in, eip_out, 12)  # sprintf style string formatting
print(eip12)  # prints "hello world 12"



String objects have a bunch of useful methods; for example:

eip = "hello"
print(eip.capitalize())  # Capitalize a string; prints "Hello"
print(eip.upper())       # Convert a string to uppercase; prints "HELLO"
print(eip.rjust(7))      # Right-justify a string, padding with spaces; prints "  hello"
print(eip.center(7))     # Center a string, padding with spaces; prints " hello "
print(eip.replace('l', '(ell)'))  # Replace all instances of one substring with another;
                                # prints "he(ell)(ell)o"
print('  world '.strip())  # Strip leading and trailing whitespace; prints "world"


Lists

eip = [3, 1, 2]    # Create a list
print(eip, eip[2])  # Prints "[3, 1, 2] 2"
print(eip[-1])     # Negative indices count from the end of the list; prints "2"
eip[2] = 'foo'     # Lists can contain elements of different types
print(eip)         # Prints "[3, 1, 'foo']"
eip.append('bar')  # Add a new element to the end of the list
print(eip)         # Prints "[3, 1, 'foo', 'bar']"
mlblr = eip.pop()      # Remove and return the last element of the list
print(mlblr, eip)      # Prints "bar [3, 1, 'foo']"

Slicing: In addition to accessing list elements one at a time, Python provides concise syntax to access sublists; this is known as slicing:


eip = list(range(5))     # range is a built-in function that creates a list of integers
print(eip)               # Prints "[0, 1, 2, 3, 4]"
print(eip[2:4])          # Get a slice from index 2 to 4 (exclusive); prints "[2, 3]"
print(eip[2:])           # Get a slice from index 2 to the end; prints "[2, 3, 4]"
print(eip[:2])           # Get a slice from the start to index 2 (exclusive); prints "[0, 1]"
print(eip[:])            # Get a slice of the whole list; prints "[0, 1, 2, 3, 4]"
print(eip[:-1])          # Slice indices can be negative; prints "[0, 1, 2, 3]"
eip[2:4] = [8, 9]        # Assign a new sublist to a slice
print(eip)               # Prints "[0, 1, 8, 9, 4]"

Loops: You can loop over the elements of a list like this:

eip = ['cat', 'dog', 'monkey']
for mlblr in eip:
    print(mlblr)
# Prints "cat", "dog", "monkey", each on its own line.



If you want access to the index of each element within the body of a loop, use the built-in enumerate function:

eip = ['cat', 'dog', 'monkey']
for eip_in, mlblr in enumerate(eip):
    print('#%d: %s' % (eip_in + 1, mlblr))
# Prints "#1: cat", "#2: dog", "#3: monkey", each on its own line



List comprehensions: When programming, frequently we want to transform one type of data into another. As a simple example, consider the following code that computes square numbers:

eip = [0, 1, 2, 3, 4]
mlblr = []
for x in eip:
    mlblr.append(x ** 2)
print(mlblr)   # Prints [0, 1, 4, 9, 16]

eip = [0, 1, 2, 3, 4]
mlblr = [x ** 2 for x in eip]
print(mlblr)   # Prints [0, 1, 4, 9, 16]

eip = [0, 1, 2, 3, 4]
mlblr = [x ** 2 for x in eip if x % 2 == 0]
print(mlblr)  # Prints "[0, 4, 16]"

eip = {'cat': 'cute', 'dog': 'furry'}  # Create a new dictionary with some data
print(eip['cat'])       # Get an entry from a dictionary; prints "cute"
print('cat' in eip)     # Check if a dictionary has a given key; prints "True"
eip['fish'] = 'wet'     # Set an entry in a dictionary
print(eip['fish'])      # Prints "wet"
# print(eip['monkey'])  # KeyError: 'monkey' not a key of d
print(eip.get('monkey', 'N/A'))  # Get an element with a default; prints "N/A"
print(eip.get('fish', 'N/A'))    # Get an element with a default; prints "wet"
del eip['fish']         # Remove an element from a dictionary
print(eip.get('fish', 'N/A')) # "fish" is no longer a key; prints "N/A"

eip = {'person': 2, 'cat': 4, 'spider': 8}
for mlblr in eip:
    eip_in = eip[mlblr]
    print('A %s has %d eip_in' % (mlblr, eip_in))
# Prints "A person has 2 legs", "A cat has 4 legs", "A spider has 8 legs"

eip_dict = {'person': 2, 'cat': 4, 'spider': 8}
for eip, mlblr in eip_dict.items():
    print('A %s has %d legs % (eip, mlblr))
# Prints "A person has 2 legs", "A cat has 4 legs", "A spider has 8 legs"

eip_list = [0, 1, 2, 3, 4]
eip_dict = {mlblr: mlblr ** 2 for mlblr in eip_list if mlblr % 2 == 0}
print(eip_dict)  # Prints "{0: 0, 2: 4, 4: 16}"

eip_dict = {'cat', 'dog'}
print('cat' in eip_dict)   # Check if an element is in a set; prints "True"
print('fish' in eip_dict)  # prints "False"
eip_dict.add('fish')       # Add an element to a set
print('fish' in eip_dict)  # Prints "True"
print(len(eip_dict))       # Number of elements in a set; prints "3"
eip_dict.add('cat')        # Adding an element that is already in the set does nothing
print(len(eip_dict))       # Prints "3"
eip_dict.remove('cat')     # Remove an element from a set
print(len(eip_dict))       # Prints "2"

eip_dict = {'cat', 'dog', 'fish'}
for eip_in, mlblr in enumerate(eip_dict):
    print('#%d: %s' % (eip_in + 1, mlblr))
# Prints "#1: fish", "#2: dog", "#3: cat"


from math import sqrt
eip_list = {int(sqrt(mlblr)) for mlblr in range(30)}
print(eip_list)  # Prints "{0, 1, 2, 3, 4, 5}"



eip_dict = {(eip_in, eip_in + 1): eip_in for eip_in in range(10)}  # Create a dictionary with tuple keys
mlblr = (5, 6)        # Create a tuple
print(type(mlblr))    # Prints "<class 'tuple'>"
print(eip_dict[mlblr])       # Prints "5"
print(eip_dict[(1, 2)])  # Prints "1"
