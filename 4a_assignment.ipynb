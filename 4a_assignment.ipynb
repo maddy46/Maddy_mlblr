{
  "nbformat": 4,
  "nbformat_minor": 0,
  "metadata": {
    "colab": {
      "name": "1st DNN.ipynb",
      "version": "0.3.2",
      "provenance": [],
      "collapsed_sections": []
    },
    "kernelspec": {
      "name": "python3",
      "display_name": "Python 3"
    },
    "accelerator": "GPU"
  },
  "cells": [
    {
      "cell_type": "markdown",
      "metadata": {
        "id": "view-in-github",
        "colab_type": "text"
      },
      "source": [
        "[View in Colaboratory](https://colab.research.google.com/github/maddy46/Maddy_mlblr/blob/master/4a_assignment.ipynb)"
      ]
    },
    {
      "metadata": {
        "id": "aNyZv-Ec52ot",
        "colab_type": "text"
      },
      "cell_type": "markdown",
      "source": [
        "# **Import Libraries and modules**"
      ]
    },
    {
      "metadata": {
        "id": "3m3w1Cw49Zkt",
        "colab_type": "code",
        "colab": {
          "base_uri": "https://localhost:8080/",
          "height": 36
        },
        "outputId": "3e281cb3-6b75-4087-f56d-13b179fdcdd2"
      },
      "cell_type": "code",
      "source": [
        "# https://keras.io/\n",
        "!pip install -q keras\n",
        "import keras"
      ],
      "execution_count": 1,
      "outputs": [
        {
          "output_type": "stream",
          "text": [
            "Using TensorFlow backend.\n"
          ],
          "name": "stderr"
        }
      ]
    },
    {
      "metadata": {
        "id": "Eso6UHE080D4",
        "colab_type": "code",
        "colab": {}
      },
      "cell_type": "code",
      "source": [
        "import numpy as np\n",
        "\n",
        "from keras.models import Sequential\n",
        "from keras.layers import Dense, Dropout, Activation, Flatten, Add\n",
        "from keras.layers import Convolution2D, MaxPooling2D\n",
        "from keras.utils import np_utils\n",
        "\n",
        "from keras.datasets import mnist"
      ],
      "execution_count": 0,
      "outputs": []
    },
    {
      "metadata": {
        "id": "zByEi95J86RD",
        "colab_type": "text"
      },
      "cell_type": "markdown",
      "source": [
        "### Load pre-shuffled MNIST data into train and test sets"
      ]
    },
    {
      "metadata": {
        "id": "7eRM0QWN83PV",
        "colab_type": "code",
        "colab": {
          "base_uri": "https://localhost:8080/",
          "height": 55
        },
        "outputId": "278ae8c8-bd7a-4e06-ad7a-527f0a3c1c3c"
      },
      "cell_type": "code",
      "source": [
        "(X_train, y_train), (X_test, y_test) = mnist.load_data()"
      ],
      "execution_count": 4,
      "outputs": [
        {
          "output_type": "stream",
          "text": [
            "Downloading data from https://s3.amazonaws.com/img-datasets/mnist.npz\n",
            "11493376/11490434 [==============================] - 1s 0us/step\n"
          ],
          "name": "stdout"
        }
      ]
    },
    {
      "metadata": {
        "id": "4a4Be72j8-ZC",
        "colab_type": "code",
        "colab": {
          "base_uri": "https://localhost:8080/",
          "height": 303
        },
        "outputId": "36409729-dbac-45de-adc2-6bf16a355d98"
      },
      "cell_type": "code",
      "source": [
        "print (X_train.shape)\n",
        "from matplotlib import pyplot as plt\n",
        "%matplotlib inline\n",
        "plt.imshow(X_train[0])"
      ],
      "execution_count": 5,
      "outputs": [
        {
          "output_type": "stream",
          "text": [
            "(60000, 28, 28)\n"
          ],
          "name": "stdout"
        },
        {
          "output_type": "execute_result",
          "data": {
            "text/plain": [
              "<matplotlib.image.AxesImage at 0x7f57b546b5c0>"
            ]
          },
          "metadata": {
            "tags": []
          },
          "execution_count": 5
        },
        {
          "output_type": "display_data",
          "data": {
            "image/png": "[encoded data removed]",
            "text/plain": [
              "<matplotlib.figure.Figure at 0x7f5816ece198>"
            ]
          },
          "metadata": {
            "tags": []
          }
        }
      ]
    },
    {
      "metadata": {
        "id": "dkmprriw9AnZ",
        "colab_type": "code",
        "colab": {}
      },
      "cell_type": "code",
      "source": [
        "X_train = X_train.reshape(X_train.shape[0], 28, 28,1)\n",
        "X_test = X_test.reshape(X_test.shape[0], 28, 28,1)"
      ],
      "execution_count": 0,
      "outputs": []
    },
    {
      "metadata": {
        "id": "X2m4YS4E9CRh",
        "colab_type": "code",
        "colab": {}
      },
      "cell_type": "code",
      "source": [
        "X_train = X_train.astype('float32')\n",
        "X_test = X_test.astype('float32')\n",
        "X_train /= 255\n",
        "X_test /= 255"
      ],
      "execution_count": 0,
      "outputs": []
    },
    {
      "metadata": {
        "id": "0Mn0vAYD9DvB",
        "colab_type": "code",
        "colab": {
          "base_uri": "https://localhost:8080/",
          "height": 36
        },
        "outputId": "2491d8c0-33a4-419b-e25b-71f6c6084036"
      },
      "cell_type": "code",
      "source": [
        "y_train[:10]"
      ],
      "execution_count": 8,
      "outputs": [
        {
          "output_type": "execute_result",
          "data": {
            "text/plain": [
              "array([5, 0, 4, 1, 9, 2, 1, 3, 1, 4], dtype=uint8)"
            ]
          },
          "metadata": {
            "tags": []
          },
          "execution_count": 8
        }
      ]
    },
    {
      "metadata": {
        "id": "ZG8JiXR39FHC",
        "colab_type": "code",
        "colab": {}
      },
      "cell_type": "code",
      "source": [
        "# Convert01-dimensional class arrays to 10-dimensional class matrices\n",
        "Y_train = np_utils.to_categorical(y_train, 10)\n",
        "Y_test = np_utils.to_categorical(y_test, 10)"
      ],
      "execution_count": 0,
      "outputs": []
    },
    {
      "metadata": {
        "id": "fYlFRvKS9HMB",
        "colab_type": "code",
        "colab": {
          "base_uri": "https://localhost:8080/",
          "height": 206
        },
        "outputId": "2cd57aa8-2028-40b9-d867-668d5e0dd2b3"
      },
      "cell_type": "code",
      "source": [
        "Y_train[:10]\n"
      ],
      "execution_count": 10,
      "outputs": [
        {
          "output_type": "execute_result",
          "data": {
            "text/plain": [
              "array([[0., 0., 0., 0., 0., 1., 0., 0., 0., 0.],\n",
              "       [1., 0., 0., 0., 0., 0., 0., 0., 0., 0.],\n",
              "       [0., 0., 0., 0., 1., 0., 0., 0., 0., 0.],\n",
              "       [0., 1., 0., 0., 0., 0., 0., 0., 0., 0.],\n",
              "       [0., 0., 0., 0., 0., 0., 0., 0., 0., 1.],\n",
              "       [0., 0., 1., 0., 0., 0., 0., 0., 0., 0.],\n",
              "       [0., 1., 0., 0., 0., 0., 0., 0., 0., 0.],\n",
              "       [0., 0., 0., 1., 0., 0., 0., 0., 0., 0.],\n",
              "       [0., 1., 0., 0., 0., 0., 0., 0., 0., 0.],\n",
              "       [0., 0., 0., 0., 1., 0., 0., 0., 0., 0.]], dtype=float32)"
            ]
          },
          "metadata": {
            "tags": []
          },
          "execution_count": 10
        }
      ]
    },
    {
      "metadata": {
        "id": "osKqT73Q9JJB",
        "colab_type": "code",
        "colab": {
          "base_uri": "https://localhost:8080/",
          "height": 75
        },
        "outputId": "eea6da16-6512-4ee6-d936-e56807a6bccf"
      },
      "cell_type": "code",
      "source": [
        "from keras.layers import Activation\n",
        "model = Sequential()\n",
        "\n",
        " \n",
        "model.add(Convolution2D(32, 3, 3, activation='relu', input_shape=(28,28,1)))\n",
        "model.add(Convolution2D(10, 3))\n",
        "model.add(Convolution2D(10, 3))\n",
        "model.add(Convolution2D(10, 3))\n",
        "model.add(Convolution2D(10, 3))\n",
        "model.add(Convolution2D(10, 3))\n",
        "model.add(MaxPooling2D(pool_size=(2, 2)))\n",
        "model.add(Convolution2D(10, 3))\n",
        "model.add(MaxPooling2D(pool_size=(2, 2)))\n",
        "model.add(Convolution2D(10, 3))\n",
        "model.add(Flatten())\n",
        "model.add(Activation('softmax'))"
      ],
      "execution_count": 17,
      "outputs": [
        {
          "output_type": "stream",
          "text": [
            "/usr/local/lib/python3.6/dist-packages/ipykernel_launcher.py:5: UserWarning: Update your `Conv2D` call to the Keras 2 API: `Conv2D(32, (3, 3), activation=\"relu\", input_shape=(28, 28, 1...)`\n",
            "  \"\"\"\n"
          ],
          "name": "stderr"
        }
      ]
    },
    {
      "metadata": {
        "id": "TzdAYg1k9K7Z",
        "colab_type": "code",
        "colab": {
          "base_uri": "https://localhost:8080/",
          "height": 602
        },
        "outputId": "877b665a-1b75-4ac1-902d-548dad6b12f8"
      },
      "cell_type": "code",
      "source": [
        "model.summary()"
      ],
      "execution_count": 18,
      "outputs": [
        {
          "output_type": "stream",
          "text": [
            "_________________________________________________________________\n",
            "Layer (type)                 Output Shape              Param #   \n",
            "=================================================================\n",
            "conv2d_18 (Conv2D)           (None, 26, 26, 32)        320       \n",
            "_________________________________________________________________\n",
            "conv2d_19 (Conv2D)           (None, 24, 24, 10)        2890      \n",
            "_________________________________________________________________\n",
            "conv2d_20 (Conv2D)           (None, 22, 22, 10)        910       \n",
            "_________________________________________________________________\n",
            "conv2d_21 (Conv2D)           (None, 20, 20, 10)        910       \n",
            "_________________________________________________________________\n",
            "conv2d_22 (Conv2D)           (None, 18, 18, 10)        910       \n",
            "_________________________________________________________________\n",
            "conv2d_23 (Conv2D)           (None, 16, 16, 10)        910       \n",
            "_________________________________________________________________\n",
            "max_pooling2d_3 (MaxPooling2 (None, 8, 8, 10)          0         \n",
            "_________________________________________________________________\n",
            "conv2d_24 (Conv2D)           (None, 6, 6, 10)          910       \n",
            "_________________________________________________________________\n",
            "max_pooling2d_4 (MaxPooling2 (None, 3, 3, 10)          0         \n",
            "_________________________________________________________________\n",
            "conv2d_25 (Conv2D)           (None, 1, 1, 10)          910       \n",
            "_________________________________________________________________\n",
            "flatten_2 (Flatten)          (None, 10)                0         \n",
            "_________________________________________________________________\n",
            "activation_2 (Activation)    (None, 10)                0         \n",
            "=================================================================\n",
            "Total params: 8,670\n",
            "Trainable params: 8,670\n",
            "Non-trainable params: 0\n",
            "_________________________________________________________________\n"
          ],
          "name": "stdout"
        }
      ]
    },
    {
      "metadata": {
        "id": "Zp6SuGrL9M3h",
        "colab_type": "code",
        "colab": {}
      },
      "cell_type": "code",
      "source": [
        "model.compile(loss='categorical_crossentropy',\n",
        "             optimizer='adam',\n",
        "             metrics=['accuracy'])"
      ],
      "execution_count": 0,
      "outputs": []
    },
    {
      "metadata": {
        "id": "4xWoKhPY9Of5",
        "colab_type": "code",
        "colab": {
          "base_uri": "https://localhost:8080/",
          "height": 471
        },
        "outputId": "5dc98971-1af6-4c08-d397-b1400408ba0d"
      },
      "cell_type": "code",
      "source": [
        "model.fit(X_train, Y_train, batch_size=32, nb_epoch=10, verbose=1)"
      ],
      "execution_count": 20,
      "outputs": [
        {
          "output_type": "stream",
          "text": [
            "/usr/local/lib/python3.6/dist-packages/keras/models.py:981: UserWarning: The `nb_epoch` argument in `fit` has been renamed `epochs`.\n",
            "  warnings.warn('The `nb_epoch` argument in `fit` '\n"
          ],
          "name": "stderr"
        },
        {
          "output_type": "stream",
          "text": [
            "Epoch 1/10\n",
            "60000/60000 [==============================] - 29s 481us/step - loss: 0.2752 - acc: 0.9148\n",
            "Epoch 2/10\n",
            "35328/60000 [================>.............] - ETA: 11s - loss: 0.0992 - acc: 0.9699"
          ],
          "name": "stdout"
        },
        {
          "output_type": "stream",
          "text": [
            "60000/60000 [==============================] - 27s 445us/step - loss: 0.0921 - acc: 0.9717\n",
            "Epoch 3/10\n",
            "57056/60000 [===========================>..] - ETA: 1s - loss: 0.0729 - acc: 0.9768"
          ],
          "name": "stdout"
        },
        {
          "output_type": "stream",
          "text": [
            "60000/60000 [==============================] - 27s 444us/step - loss: 0.0731 - acc: 0.9768\n",
            "Epoch 4/10\n",
            "60000/60000 [==============================] - 27s 449us/step - loss: 0.0664 - acc: 0.9796\n",
            "Epoch 5/10\n",
            " 4192/60000 [=>............................] - ETA: 25s - loss: 0.0537 - acc: 0.9835"
          ],
          "name": "stdout"
        },
        {
          "output_type": "stream",
          "text": [
            "60000/60000 [==============================] - 27s 444us/step - loss: 0.0598 - acc: 0.9817\n",
            "Epoch 6/10\n",
            "42976/60000 [====================>.........] - ETA: 7s - loss: 0.0563 - acc: 0.9823"
          ],
          "name": "stdout"
        },
        {
          "output_type": "stream",
          "text": [
            "60000/60000 [==============================] - 27s 445us/step - loss: 0.0564 - acc: 0.9825\n",
            "Epoch 7/10\n",
            "60000/60000 [==============================] - 27s 447us/step - loss: 0.0541 - acc: 0.9830\n",
            "Epoch 8/10\n"
          ],
          "name": "stdout"
        },
        {
          "output_type": "stream",
          "text": [
            "60000/60000 [==============================] - 27s 445us/step - loss: 0.0508 - acc: 0.9839\n",
            "Epoch 9/10\n",
            "41088/60000 [===================>..........] - ETA: 8s - loss: 0.0491 - acc: 0.9842"
          ],
          "name": "stdout"
        },
        {
          "output_type": "stream",
          "text": [
            "60000/60000 [==============================] - 27s 446us/step - loss: 0.0494 - acc: 0.9843\n",
            "Epoch 10/10\n",
            "59296/60000 [============================>.] - ETA: 0s - loss: 0.0471 - acc: 0.9851"
          ],
          "name": "stdout"
        },
        {
          "output_type": "stream",
          "text": [
            "60000/60000 [==============================] - 27s 447us/step - loss: 0.0471 - acc: 0.9851\n"
          ],
          "name": "stdout"
        },
        {
          "output_type": "execute_result",
          "data": {
            "text/plain": [
              "<keras.callbacks.History at 0x7f57b2cd0fd0>"
            ]
          },
          "metadata": {
            "tags": []
          },
          "execution_count": 20
        }
      ]
    },
    {
      "metadata": {
        "id": "AtsH-lLk-eLb",
        "colab_type": "code",
        "colab": {}
      },
      "cell_type": "code",
      "source": [
        "score = model.evaluate(X_test, Y_test, verbose=0)"
      ],
      "execution_count": 0,
      "outputs": []
    },
    {
      "metadata": {
        "id": "mkX8JMv79q9r",
        "colab_type": "code",
        "colab": {
          "base_uri": "https://localhost:8080/",
          "height": 36
        },
        "outputId": "9687c952-43eb-44c0-be27-5daeadbbf50f"
      },
      "cell_type": "code",
      "source": [
        "print(score)"
      ],
      "execution_count": 22,
      "outputs": [
        {
          "output_type": "stream",
          "text": [
            "[0.03644976737725083, 0.9879]\n"
          ],
          "name": "stdout"
        }
      ]
    },
    {
      "metadata": {
        "id": "OCWoJkwE9suh",
        "colab_type": "code",
        "colab": {}
      },
      "cell_type": "code",
      "source": [
        "y_pred = model.predict(X_test)"
      ],
      "execution_count": 0,
      "outputs": []
    },
    {
      "metadata": {
        "id": "Ym7iCFBm9uBs",
        "colab_type": "code",
        "colab": {
          "base_uri": "https://localhost:8080/",
          "height": 545
        },
        "outputId": "ccfb4949-a031-43b3-d7fd-b00eebf32794"
      },
      "cell_type": "code",
      "source": [
        "print(y_pred[:9])\n",
        "print(y_test[:9])"
      ],
      "execution_count": 24,
      "outputs": [
        {
          "output_type": "stream",
          "text": [
            "[[1.35302408e-10 6.08074077e-11 2.81945791e-08 5.72007448e-05\n",
            "  1.68103284e-13 2.28002879e-08 7.35683531e-16 9.99940991e-01\n",
            "  2.69755589e-07 1.52971757e-06]\n",
            " [1.15016337e-05 1.37215022e-06 9.99985337e-01 5.99407413e-09\n",
            "  1.01084896e-11 1.12326634e-10 1.49508776e-06 2.12678659e-12\n",
            "  2.89323424e-07 7.56096991e-11]\n",
            " [1.37199848e-07 9.99875307e-01 1.11411191e-05 7.47865503e-09\n",
            "  6.73232789e-05 2.72104785e-07 2.38095524e-07 4.36626906e-05\n",
            "  1.32902778e-06 6.15992917e-07]\n",
            " [9.99845982e-01 6.28118607e-12 4.66882142e-07 9.70172498e-10\n",
            "  4.92214269e-09 2.45232314e-08 1.53066096e-04 7.12864767e-11\n",
            "  5.08548851e-07 1.41402401e-08]\n",
            " [1.83875826e-09 1.75900433e-10 1.01938893e-08 1.12523039e-10\n",
            "  9.99987125e-01 7.60829288e-10 1.85447142e-08 1.00354364e-10\n",
            "  2.89816467e-06 9.96098333e-06]\n",
            " [1.23196870e-07 9.99811113e-01 6.70091640e-06 1.41537160e-09\n",
            "  2.44204512e-05 3.76829128e-08 1.26912681e-07 1.47168990e-04\n",
            "  3.64615516e-06 6.76139916e-06]\n",
            " [8.39436246e-12 1.48055401e-09 7.59583152e-09 1.23708921e-09\n",
            "  9.99962926e-01 1.64304220e-06 3.26962242e-11 3.20212727e-08\n",
            "  1.92830503e-05 1.61392582e-05]\n",
            " [2.41729964e-07 2.86344792e-09 7.74698055e-05 1.64389494e-05\n",
            "  3.30543183e-02 6.31421135e-05 2.65129021e-08 2.38717098e-06\n",
            "  3.52582545e-04 9.66433406e-01]\n",
            " [8.28499509e-08 1.15431623e-12 1.33594426e-07 1.27604038e-09\n",
            "  2.70560214e-08 9.88034546e-01 1.16636222e-02 1.13400814e-12\n",
            "  3.01355176e-04 2.71895317e-07]]\n",
            "[7 2 1 0 4 1 4 9 5]\n"
          ],
          "name": "stdout"
        }
      ]
    },
    {
      "metadata": {
        "id": "CT--y98_dr2T",
        "colab_type": "code",
        "colab": {
          "base_uri": "https://localhost:8080/",
          "height": 56
        },
        "outputId": "9c1f8fa2-2d43-4b32-d875-29c845ac6a04"
      },
      "cell_type": "code",
      "source": [
        "layer_dict = dict([(layer.name, layer) for layer in model.layers])"
      ],
      "execution_count": 25,
      "outputs": [
        {
          "output_type": "stream",
          "text": [
            "{'conv2d_18': <keras.layers.convolutional.Conv2D object at 0x7f57b2e30940>, 'conv2d_19': <keras.layers.convolutional.Conv2D object at 0x7f57b2e309b0>, 'conv2d_20': <keras.layers.convolutional.Conv2D object at 0x7f57b2e30cf8>, 'conv2d_21': <keras.layers.convolutional.Conv2D object at 0x7f57b2e35550>, 'conv2d_22': <keras.layers.convolutional.Conv2D object at 0x7f57b2de2128>, 'conv2d_23': <keras.layers.convolutional.Conv2D object at 0x7f57b2d8b128>, 'max_pooling2d_3': <keras.layers.pooling.MaxPooling2D object at 0x7f57b2da2b00>, 'conv2d_24': <keras.layers.convolutional.Conv2D object at 0x7f57b2df5a58>, 'max_pooling2d_4': <keras.layers.pooling.MaxPooling2D object at 0x7f57b2d649b0>, 'conv2d_25': <keras.layers.convolutional.Conv2D object at 0x7f57b2d52630>, 'flatten_2': <keras.layers.core.Flatten object at 0x7f57b2d11e80>, 'activation_2': <keras.layers.core.Activation object at 0x7f57b2d23fd0>}\n"
          ],
          "name": "stdout"
        }
      ]
    },
    {
      "metadata": {
        "id": "2GY4Upv4dsUR",
        "colab_type": "code",
        "colab": {
          "base_uri": "https://localhost:8080/",
          "height": 1292
        },
        "outputId": "e9271159-9137-490c-fc60-857ae72dacec"
      },
      "cell_type": "code",
      "source": [
        "import numpy as np\n",
        "from matplotlib import pyplot as plt\n",
        "from keras import backend as K\n",
        "%matplotlib inline\n",
        "# util function to convert a tensor into a valid image\n",
        "def deprocess_image(x):\n",
        "    # normalize tensor: center on 0., ensure std is 0.1\n",
        "    x -= x.mean()\n",
        "    x /= (x.std() + 1e-5)\n",
        "    x *= 0.1\n",
        "\n",
        "    # clip to [0, 1]\n",
        "    x += 0.5\n",
        "    x = np.clip(x, 0, 1)\n",
        "\n",
        "    # convert to RGB array\n",
        "    x *= 255\n",
        "    #x = x.transpose((1, 2, 0))\n",
        "    x = np.clip(x, 0, 255).astype('uint8')\n",
        "    return x\n",
        "\n",
        "def vis_img_in_filter(img = np.array(X_train[2]).reshape((1, 28, 28, 1)).astype(np.float64), \n",
        "                      layer_name = 'conv2d_18'):\n",
        "    layer_output = layer_dict[layer_name].output\n",
        "    img_ascs = list()\n",
        "    for filter_index in range(layer_output.shape[3]):\n",
        "        # build a loss function that maximizes the activation\n",
        "        # of the nth filter of the layer considered\n",
        "        loss = K.mean(layer_output[:, :, :, filter_index])\n",
        "\n",
        "        # compute the gradient of the input picture wrt this loss\n",
        "        grads = K.gradients(loss, model.input)[0]\n",
        "\n",
        "        # normalization trick: we normalize the gradient\n",
        "        grads /= (K.sqrt(K.mean(K.square(grads))) + 1e-5)\n",
        "\n",
        "        # this function returns the loss and grads given the input picture\n",
        "        iterate = K.function([model.input], [loss, grads])\n",
        "\n",
        "        # step size for gradient ascent\n",
        "        step = 5.\n",
        "\n",
        "        img_asc = np.array(img)\n",
        "        # run gradient ascent for 20 steps\n",
        "        for i in range(20):\n",
        "            loss_value, grads_value = iterate([img_asc])\n",
        "            img_asc += grads_value * step\n",
        "\n",
        "        img_asc = img_asc[0]\n",
        "        img_ascs.append(deprocess_image(img_asc).reshape((28, 28)))\n",
        "        \n",
        "    if layer_output.shape[3] >= 35:\n",
        "        plot_x, plot_y = 6, 6\n",
        "    elif layer_output.shape[3] >= 23:\n",
        "        plot_x, plot_y = 4, 6\n",
        "    elif layer_output.shape[3] >= 11:\n",
        "        plot_x, plot_y = 2, 6\n",
        "    else:\n",
        "        plot_x, plot_y = 1, 2\n",
        "    fig, ax = plt.subplots(plot_x, plot_y, figsize = (12, 12))\n",
        "    print (ax)\n",
        "    ax[0,0].imshow(img.reshape((28, 28)), cmap = 'gray')\n",
        "    ax[0,0].set_title('Input image')\n",
        "    fig.suptitle('Input image and %s filters' % (layer_name,))\n",
        "    fig.tight_layout(pad = 0.3, rect = [0, 0, 0.9, 0.9])\n",
        "    for (x, y) in [(i, j) for i in range(plot_x) for j in range(plot_y)]:\n",
        "        if x == 0 and y == 0:\n",
        "            continue\n",
        "        ax[x, y].imshow(img_ascs[x * plot_y + y - 1], cmap = 'gray')\n",
        "        ax[x, y].set_title('filter %d' % (x * plot_y + y - 1))\n",
        "\n",
        "vis_img_in_filter()"
      ],
      "execution_count": 27,
      "outputs": [
        {
          "output_type": "stream",
          "text": [
            "[[<matplotlib.axes._subplots.AxesSubplot object at 0x7f5787632780>\n",
            "  <matplotlib.axes._subplots.AxesSubplot object at 0x7f57874e8da0>\n",
            "  <matplotlib.axes._subplots.AxesSubplot object at 0x7f57874a1da0>\n",
            "  <matplotlib.axes._subplots.AxesSubplot object at 0x7f5787460400>\n",
            "  <matplotlib.axes._subplots.AxesSubplot object at 0x7f5787413f98>\n",
            "  <matplotlib.axes._subplots.AxesSubplot object at 0x7f57873d35c0>]\n",
            " [<matplotlib.axes._subplots.AxesSubplot object at 0x7f578737f208>\n",
            "  <matplotlib.axes._subplots.AxesSubplot object at 0x7f578733ec50>\n",
            "  <matplotlib.axes._subplots.AxesSubplot object at 0x7f57872fd400>\n",
            "  <matplotlib.axes._subplots.AxesSubplot object at 0x7f5787330a20>\n",
            "  <matplotlib.axes._subplots.AxesSubplot object at 0x7f57872f3080>\n",
            "  <matplotlib.axes._subplots.AxesSubplot object at 0x7f57872977f0>]\n",
            " [<matplotlib.axes._subplots.AxesSubplot object at 0x7f5787256320>\n",
            "  <matplotlib.axes._subplots.AxesSubplot object at 0x7f578720a940>\n",
            "  <matplotlib.axes._subplots.AxesSubplot object at 0x7f57871cc400>\n",
            "  <matplotlib.axes._subplots.AxesSubplot object at 0x7f57872a03c8>\n",
            "  <matplotlib.axes._subplots.AxesSubplot object at 0x7f57871b16a0>\n",
            "  <matplotlib.axes._subplots.AxesSubplot object at 0x7f5787163e10>]\n",
            " [<matplotlib.axes._subplots.AxesSubplot object at 0x7f5787127400>\n",
            "  <matplotlib.axes._subplots.AxesSubplot object at 0x7f57870dea20>\n",
            "  <matplotlib.axes._subplots.AxesSubplot object at 0x7f5786f8cbe0>\n",
            "  <matplotlib.axes._subplots.AxesSubplot object at 0x7f5786f4c240>\n",
            "  <matplotlib.axes._subplots.AxesSubplot object at 0x7f5786f03860>\n",
            "  <matplotlib.axes._subplots.AxesSubplot object at 0x7f5786eb8e80>]]\n"
          ],
          "name": "stdout"
        },
        {
          "output_type": "display_data",
          "data": {
            "image/png": "[encoded data removed]",
            "text/plain": [
              "<matplotlib.figure.Figure at 0x7f5787796710>"
            ]
          },
          "metadata": {
            "tags": []
          }
        }
      ]
    },
    {
      "metadata": {
        "id": "9tvptcn8dxvp",
        "colab_type": "code",
        "colab": {}
      },
      "cell_type": "code",
      "source": [
        ""
      ],
      "execution_count": 0,
      "outputs": []
    }
  ]
}